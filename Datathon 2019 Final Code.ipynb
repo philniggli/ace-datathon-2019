{
 "cells": [
  {
   "cell_type": "markdown",
   "metadata": {},
   "source": [
    "# ACE Datathon 2019 Final Code"
   ]
  },
  {
   "cell_type": "markdown",
   "metadata": {},
   "source": [
    "The ACE Datathon is a competition at ETH Zurich organized by the Analytics Club at ETH (ACE). The competition lasted 24 hours and it had to be solved a Machine Learning Challenge in the field of news popularity prediction. With my team (TeamInt) we finished second in the first part of the competition (https://www.kaggle.com/c/acedatathon19-crypto/leaderboard). With the following pitch we secured the first place."
   ]
  },
  {
   "cell_type": "markdown",
   "metadata": {},
   "source": [
    "**Competition Details:**\n",
    "\n",
    "Cryptocurrencies have been a popular trend in finance and technology in the past few years. Daily, a large amount of news articles about cryptocurrencies are published, making it difficult for individuals and investors to make informative decisions. In this challenge, we would like to use social media to predict the popularity of cryptocurrencies related news articles.\n",
    "\n",
    "In particular, we track data from Twitter and we quantify the popularity of news articles as the number of mentions that an article get on Twitter, i.e. the **number of tweets** that contain the article's url.\n",
    "\n",
    "Given the cumulative number of mentions on Twitter in the first hour since an article's publication, and the article's text features (title and sentences), the goal of this challenge is to predict the number of mentions of the article after 24 hours.\n",
    "\n",
    "Link to the competition: https://www.kaggle.com/c/acedatathon19-crypto/overview\n",
    "\n",
    "If you have any question regarding the competition or the code, please feel free to contact me at the following email address philniggli@gmail.com"
   ]
  },
  {
   "cell_type": "markdown",
   "metadata": {},
   "source": [
    "## Import Packages"
   ]
  },
  {
   "cell_type": "code",
   "execution_count": 1,
   "metadata": {},
   "outputs": [],
   "source": [
    "import pandas as pd\n",
    "import numpy as np\n",
    "import seaborn as sns\n",
    "import textstat\n",
    "from sklearn.linear_model import LinearRegression\n",
    "from sklearn.ensemble import RandomForestRegressor\n",
    "from sklearn.model_selection import KFold\n",
    "from sklearn.metrics import mean_squared_error\n",
    "pd.set_option('display.max_columns', 40)\n",
    "pd.set_option('display.max_rows', 40)\n"
   ]
  },
  {
   "cell_type": "markdown",
   "metadata": {},
   "source": [
    "## Import Data"
   ]
  },
  {
   "cell_type": "code",
   "execution_count": 2,
   "metadata": {},
   "outputs": [],
   "source": [
    "x = pd.read_csv(\"train.csv\")\n",
    "y = x.label\n",
    "x_test = pd.read_csv(\"test.csv\")"
   ]
  },
  {
   "cell_type": "markdown",
   "metadata": {},
   "source": [
    "## Feature Preparation"
   ]
  },
  {
   "cell_type": "markdown",
   "metadata": {},
   "source": [
    "**Readability**\n",
    "\n",
    "Readability based on the Coleman Liau Index\n",
    "\n",
    "Source: https://pypi.org/project/textstat/"
   ]
  },
  {
   "cell_type": "code",
   "execution_count": 3,
   "metadata": {},
   "outputs": [],
   "source": [
    "def readability(text):\n",
    "    index = textstat.coleman_liau_index(text)\n",
    "    return(index)\n",
    "\n",
    "readability(x.sentences[1])\n",
    "x['Readability'] = x['sentences'].apply(lambda x: readability(x))\n",
    "x_test['Readability'] = x_test['sentences'].apply(lambda x: readability(x))"
   ]
  },
  {
   "cell_type": "markdown",
   "metadata": {},
   "source": [
    "**Features related to the URL**"
   ]
  },
  {
   "cell_type": "code",
   "execution_count": 4,
   "metadata": {},
   "outputs": [],
   "source": [
    "def get_source(s):\n",
    "    foundwww = s.find(\"//www\")\n",
    "    founddoubleslash = s.find(\"//\")\n",
    "    if foundwww> 0:\n",
    "        substring = s[foundwww+6:]\n",
    "        finalstring = substring[:7]\n",
    "        return finalstring\n",
    "\n",
    "    elif founddoubleslash > 0 :\n",
    "        substring = s[founddoubleslash + 2:]\n",
    "        finalstring = substring[:7]\n",
    "        return finalstring\n",
    "    else:\n",
    "        return \"unknown\"\n",
    "\n",
    "x[\"source\"] = x[\"url\"].apply(lambda s: get_source(s))\n",
    "x_test[\"source\"] = x_test[\"url\"].apply(lambda s: get_source(s))\n",
    "\n",
    "sources = x.source.unique()\n",
    "source_mean = {}\n",
    "source_std = {}\n",
    "for k in sources:\n",
    "    counting = x[\"label\"].loc[(x.source.isin([k]))]\n",
    "    source_mean[k] = np.mean(counting)\n",
    "    source_std[k] = np.std(counting)\n",
    "\n",
    "x[\"expectedlabel\"] = x[\"source\"].apply(lambda s: source_mean[s])\n",
    "x[\"expectedlabel_std\"] = x[\"source\"].apply(lambda s: source_std[s])\n",
    "x_test[\"expectedlabel\"] = x_test[\"source\"].apply(lambda s: source_mean[s])\n",
    "x_test[\"expectedlabel_std\"] = x_test[\"source\"].apply(lambda s: source_std[s])"
   ]
  },
  {
   "cell_type": "markdown",
   "metadata": {},
   "source": [
    "**Assembling further features**"
   ]
  },
  {
   "cell_type": "code",
   "execution_count": 5,
   "metadata": {},
   "outputs": [],
   "source": [
    "x[\"title_number_characters\"] = x[\"news_title\"].apply(lambda x: len(str(x)))\n",
    "x[\"title_number_words\"] = x[\"news_title\"].apply(lambda x: len(str(x).split()))\n",
    "x[\"source\"] = x[\"url\"].apply(lambda s: get_source(s))\n",
    "x[\"expectedlabel\"] = x[\"source\"].apply(lambda s: source_mean[s])\n",
    "x[\"square_x1\"] = x[\"tweet_amount_1.0h\"].apply(lambda s: np.square(s))\n",
    "x[\"num_sentences\"] = x[\"sentences\"].apply(lambda x: len(str(x)))\n",
    "\n",
    "x_test[\"title_number_characters\"] = x_test[\"news_title\"].apply(lambda x: len(str(x)))\n",
    "x_test[\"title_number_words\"] = x_test[\"news_title\"].apply(lambda x: len(str(x).split()))\n",
    "x_test[\"source\"] = x_test[\"url\"].apply(lambda s: get_source(s))\n",
    "x_test[\"expectedlabel\"] = x_test[\"source\"].apply(lambda s: source_mean[s])\n",
    "x_test[\"square_x1\"] = x_test[\"tweet_amount_1.0h\"].apply(lambda s: np.square(s))\n",
    "x_test[\"num_sentences\"] = x_test[\"sentences\"].apply(lambda x: len(str(x)))"
   ]
  },
  {
   "cell_type": "markdown",
   "metadata": {},
   "source": [
    "**Final Feature List**"
   ]
  },
  {
   "cell_type": "code",
   "execution_count": 6,
   "metadata": {},
   "outputs": [],
   "source": [
    "pred_features=['expectedlabel_std','Readability','square_x1','tweet_amount_0.25h', 'tweet_amount_0.5h','tweet_amount_1.0h']"
   ]
  },
  {
   "cell_type": "markdown",
   "metadata": {},
   "source": [
    "## Machine Learning and Evaluation"
   ]
  },
  {
   "cell_type": "markdown",
   "metadata": {},
   "source": [
    "**Define and Evaluate models** given pred_features"
   ]
  },
  {
   "cell_type": "code",
   "execution_count": 7,
   "metadata": {},
   "outputs": [
    {
     "name": "stdout",
     "output_type": "stream",
     "text": [
      "Average performance\n",
      "15.27 +/- 0.73\n",
      "Lin Reg performance\n",
      "15.94 +/- 2.39\n",
      "RF performance\n",
      "16.17 +/- 2.04\n",
      "['expectedlabel_std', 'Readability', 'square_x1', 'tweet_amount_0.25h', 'tweet_amount_0.5h', 'tweet_amount_1.0h']\n"
     ]
    }
   ],
   "source": [
    "model_names = ['linreg', 'rf']\n",
    "LinReg = LinearRegression()\n",
    "Rf = RandomForestRegressor(n_estimators=100, random_state=1,max_depth=5)\n",
    "\n",
    "models = {'linreg': LinReg, 'rf': Rf}\n",
    "cv_results = {'linreg': [], 'rf': []}\n",
    "predictions = {'linreg': [], 'rf': []}\n",
    "y_vals = {'linreg': [], 'rf': []}\n",
    "\n",
    "kf = KFold(n_splits=10, shuffle= True, random_state=21)\n",
    "for train_index, test_index in kf.split(x):\n",
    "    x_train, x_test_cv = x.iloc[train_index],x.iloc[test_index]\n",
    "    x_train_input = x_train[pred_features]\n",
    "    y_train = x_train[\"label\"]\n",
    "    x_test_input = x_test_cv[pred_features]\n",
    "    y_test = x_test_cv[\"label\"]\n",
    "    for k in models:\n",
    "        models[k].fit(x_train_input,y_train)\n",
    "        current_pred = models[k].predict(x_test_input)\n",
    "        cv_score = np.sqrt(mean_squared_error(current_pred,y_test))\n",
    "        cv_results[k].append(cv_score)\n",
    "        predictions[k].append(current_pred)\n",
    "        y_vals[k].append(y_test)\n",
    "\n",
    "mean_cv = {np.mean(cv_results[k]) for k in cv_results}\n",
    "\n",
    "final_cv = []\n",
    "for i in range(5):\n",
    "    avg_pred = (predictions[\"linreg\"][i]+predictions[\"rf\"][i])/2\n",
    "    final_cv.append(np.sqrt(mean_squared_error(avg_pred,y_vals['linreg'][i])))\n",
    "\n",
    "print(\"Average performance\")\n",
    "print(\"{:.2f} +/- {:.2f}\".format(np.mean(final_cv),np.std(final_cv)))\n",
    "print(\"Lin Reg performance\")\n",
    "print(\"{:.2f} +/- {:.2f}\".format(np.mean(cv_results[\"linreg\"]),np.std(cv_results[\"linreg\"])))\n",
    "print(\"RF performance\")\n",
    "print(\"{:.2f} +/- {:.2f}\".format(np.mean(cv_results[\"rf\"]),np.std(cv_results[\"rf\"])))\n",
    "print(pred_features)\n",
    "\n",
    "# train final model and predict\n",
    "\n",
    "LinReg = LinearRegression()\n",
    "Rf = RandomForestRegressor(n_estimators=100, random_state=1,max_depth=5)\n",
    "\n",
    "models = {'linreg': LinReg, 'rf': Rf}\n",
    "for k in models:\n",
    "    models[k].fit(x[pred_features],x[\"label\"])\n",
    "\n",
    "\n",
    "prediction_linreg = models[\"linreg\"].predict(x_test[pred_features])\n",
    "prediction_rf = models[\"rf\"].predict(x_test[pred_features])\n",
    "\n",
    "avgpred = 0.5*(prediction_linreg+prediction_rf)\n",
    "\n",
    "output = pd.DataFrame({'Id': x_test.index,\n",
    "                       'Label': avgpred})\n",
    "output.to_csv('submission11.csv', index=False)"
   ]
  },
  {
   "cell_type": "markdown",
   "metadata": {},
   "source": [
    "## Plots"
   ]
  },
  {
   "cell_type": "markdown",
   "metadata": {},
   "source": [
    "Plot of distribution of labels depending on the source"
   ]
  },
  {
   "cell_type": "code",
   "execution_count": 8,
   "metadata": {},
   "outputs": [
    {
     "data": {
      "image/png": "[encoded data removed]",
      "text/plain": [
       "<Figure size 360x360 with 1 Axes>"
      ]
     },
     "metadata": {
      "needs_background": "light"
     },
     "output_type": "display_data"
    }
   ],
   "source": [
    "sns.catplot(x=\"source\", y=\"label\", data=x);"
   ]
  }
 ],
 "metadata": {
  "kernelspec": {
   "display_name": "Python 3",
   "language": "python",
   "name": "python3"
  },
  "language_info": {
   "codemirror_mode": {
    "name": "ipython",
    "version": 3
   },
   "file_extension": ".py",
   "mimetype": "text/x-python",
   "name": "python",
   "nbconvert_exporter": "python",
   "pygments_lexer": "ipython3",
   "version": "3.7.4"
  }
 },
 "nbformat": 4,
 "nbformat_minor": 2
}
